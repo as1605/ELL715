{
  "nbformat": 4,
  "nbformat_minor": 0,
  "metadata": {
    "colab": {
      "provenance": []
    },
    "kernelspec": {
      "name": "python3",
      "display_name": "Python 3"
    },
    "language_info": {
      "name": "python"
    }
  },
  "cells": [
    {
      "cell_type": "markdown",
      "source": [
        "Q1. Image denoted as f(x, y), is transformed to image g(x,y). g(x,y) is 3 times larger along y-axis and 2 times larger along x-axis than f(x, y). Also g(x,y) is at 6 units horizontal and 7 units vertical distance from f(x,y).\n",
        "Write a code to do this. Show f(x,y) and g(x,y).\n",
        "Compute h(x,y), third image, by rotating pixels of image 2, g(x,y) by 75◦ degrees counter clockwise.\n",
        "Write a code to do this. Show f(x,y), g(x,y) and h(x,y).\n",
        "Make your code generic enough so that you can do these transformations with any given values or images.\n",
        "\n",
        "Answer below:"
      ],
      "metadata": {
        "id": "NixAgt-CXZg9"
      }
    },
    {
      "cell_type": "code",
      "execution_count": 9,
      "metadata": {
        "colab": {
          "base_uri": "https://localhost:8080/",
          "height": 465
        },
        "id": "87-HIh6ZSAwm",
        "outputId": "b90ba4d3-ad6e-412e-ea33-fa1ea0e16c21"
      },
      "outputs": [
        {
          "output_type": "display_data",
          "data": {
            "text/plain": [
              "<Figure size 1000x800 with 3 Axes>"
            ],
            "image/png": "[encoded data removed]"
          },
          "metadata": {}
        }
      ],
      "source": [
        "\"\"\"\n",
        "Image denoted as f(x, y), is transformed to image g(x,y). g(x,y) is 3 times larger along y-axis and 2 times larger along x-axis than f(x, y). Also g(x,y) is at 6 units horizontal and 7 units vertical distance from f(x,y).\n",
        "Write a code to do this. Show f(x,y) and g(x,y).\n",
        "Compute h(x,y), third image, by rotating pixels of image 2, g(x,y) by 75◦ degrees counter clockwise.\n",
        "Write a code to do this. Show f(x,y), g(x,y) and h(x,y).\n",
        "Make your code generic enough so that you can do these transformations with any given values or images.\n",
        "\"\"\"\n",
        "\n",
        "import numpy as np\n",
        "import matplotlib.pyplot as plt\n",
        "from scipy.ndimage import rotate\n",
        "import matplotlib.image as mpimg\n",
        "\n",
        "def transform_image(input_image, scale_x, scale_y, translate_x, translate_y):\n",
        "    # Scaling\n",
        "    scaled_image = np.zeros((input_image.shape[0] * scale_y, input_image.shape[1] * scale_x))\n",
        "    for y in range(input_image.shape[0]):\n",
        "        for x in range(input_image.shape[1]):\n",
        "            scaled_image[y*scale_y:(y+1)*scale_y, x*scale_x:(x+1)*scale_x] = input_image[y, x]\n",
        "\n",
        "    # Translation\n",
        "    translated_image = np.zeros_like(scaled_image)\n",
        "    translated_image[translate_y:, translate_x:] = scaled_image[:-translate_y, :-translate_x]\n",
        "\n",
        "    return translated_image\n",
        "\n",
        "def rotate_image(input_image, angle_degrees):\n",
        "    rotated_image = rotate(input_image, angle_degrees, reshape=False)\n",
        "    return rotated_image\n",
        "\n",
        "# Create a sample image f(x, y)\n",
        "f = np.zeros((10, 10))\n",
        "\n",
        "f[3:7, 3:7] = 255\n",
        "\n",
        "# Perform the first transformation to get g(x, y)\n",
        "g = transform_image(f, 2, 3, 6, 7)\n",
        "\n",
        "# Perform the second transformation to get h(x, y)\n",
        "h = rotate_image(g, 75)\n",
        "\n",
        "# Display the images\n",
        "plt.figure(figsize=(10, 8))\n",
        "\n",
        "plt.subplot(131)\n",
        "plt.imshow(f, cmap='gray')\n",
        "plt.title('f(x, y)')\n",
        "plt.axis('off')\n",
        "\n",
        "plt.subplot(132)\n",
        "plt.imshow(g, cmap='gray')\n",
        "plt.title('g(x, y)')\n",
        "plt.axis('off')\n",
        "\n",
        "plt.subplot(133)\n",
        "plt.imshow(h, cmap='gray')\n",
        "plt.title('h(x, y)')\n",
        "plt.axis('off')\n",
        "\n",
        "plt.tight_layout()\n",
        "plt.show()\n",
        "\n"
      ]
    }
  ]
}