{
 "cells": [
  {
   "cell_type": "markdown",
   "metadata": {},
   "source": [
    "Huffman coding is a variable-length prefix coding technique. It relies on creating a variable-length code for each symbol (in this case, pixel values) based on their frequency of occurrence in the image. It does not involve any mathematical transforms."
   ]
  },
  {
   "cell_type": "code",
   "execution_count": 60,
   "metadata": {},
   "outputs": [
    {
     "name": "stdout",
     "output_type": "stream",
     "text": [
      "Huffman Compression Ratio: 2.488950814740001\n"
     ]
    }
   ],
   "source": [
    "import heapq\n",
    "import collections\n",
    "from PIL import Image\n",
    "\n",
    "image_path = r\"img.jpeg\"\n",
    "image = Image.open(image_path)\n",
    "image = image.resize((1024, 1024))\n",
    "\n",
    "pixel_values = list(image.getdata())\n",
    "\n",
    "frq = collections.Counter(pixel_values)\n",
    "\n",
    "heap = [[weight, [pixel, \"\"]] for pixel, weight in frq.items()]\n",
    "heapq.heapify(heap)\n",
    "\n",
    "while len(heap) > 1:\n",
    "    lo = heapq.heappop(heap)\n",
    "    hi = heapq.heappop(heap)\n",
    "    for pair in lo[1:]:\n",
    "        pair[1] = '0' + pair[1]\n",
    "    for pair in hi[1:]:\n",
    "        pair[1] = '1' + pair[1]\n",
    "    heapq.heappush(heap, [lo[0] + hi[0]] + lo[1:] + hi[1:])\n",
    "\n",
    "huffman_dict = dict(heap[0][1:])\n",
    "\n",
    "encoding = ''.join(huffman_dict[pixel] for pixel in pixel_values)\n",
    "\n",
    "original_size = len(pixel_values) * 8  # Assuming 8 bits per pixel\n",
    "compressed_size = len(encoding)\n",
    "\n",
    "huffman_compression_ratio = original_size / compressed_size\n",
    "print(f\"Huffman Compression Ratio: {huffman_compression_ratio:}\")\n"
   ]
  },
  {
   "cell_type": "markdown",
   "metadata": {},
   "source": [
    "DCT is a mathematical transform that converts image data into a frequency-domain representation. It is widely used in JPEG compression. DCT captures the frequency components of an image, allowing for efficient compression by quantizing high-frequency components."
   ]
  },
  {
   "cell_type": "code",
   "execution_count": 65,
   "metadata": {},
   "outputs": [
    {
     "name": "stdout",
     "output_type": "stream",
     "text": [
      "Compression Ratio: 1.1562593052715515\n"
     ]
    }
   ],
   "source": [
    "import numpy as np\n",
    "from scipy.fftpack import dct\n",
    "from PIL import Image\n",
    "\n",
    "image_path = r'img.jpeg'  \n",
    "image = Image.open(image_path)\n",
    "# print(image.size)\n",
    "image = image.resize((1024, 1024))\n",
    "\n",
    "gray = image.convert(\"L\")\n",
    "imarr = np.array(gray)\n",
    "# print(imarr.shape)\n",
    "block_size = 8\n",
    "\n",
    "quantmat = np.array([[16, 11, 10, 16, 24, 40, 51, 61],\n",
    "                                [12, 12, 14, 19, 26, 58, 60, 55],\n",
    "                                [14, 13, 16, 24, 40, 57, 69, 56],\n",
    "                                [14, 17, 22, 29, 51, 87, 80, 62],\n",
    "                                [18, 22, 37, 56, 68, 109, 103, 77],\n",
    "                                [24, 35, 55, 64, 81, 104, 113, 92],\n",
    "                                [49, 64, 78, 87, 103, 121, 120, 101],\n",
    "                                [72, 92, 95, 98, 112, 100, 103, 99]])\n",
    "\n",
    "def quantize(k, Q):\n",
    "    return np.round(k / Q)\n",
    "\n",
    "def dequantize(l, Q):\n",
    "    return l * Q\n",
    "\n",
    "height, width = imarr.shape\n",
    "dctb = np.zeros_like(imarr)\n",
    "\n",
    "for i in range(0, height, block_size):\n",
    "    for j in range(0, width, block_size):\n",
    "        block = imarr[i:i + block_size, j:j + block_size]\n",
    "        dct_block = dct(dct(block, axis=0), axis=1)\n",
    "        \n",
    "        qb = quantize(dct_block, quantmat)\n",
    "        dctb[i:i + block_size, j:j + block_size] = qb\n",
    "\n",
    "original = height * width * 8  \n",
    "compressed = dctb.size * np.log2(quantmat.max()) \n",
    "\n",
    "compression_ratio = original / compressed\n",
    "\n",
    "print(f\"Compression Ratio: {compression_ratio:}\")\n"
   ]
  },
  {
   "cell_type": "markdown",
   "metadata": {},
   "source": [
    "KL transform (Karhunen-Loève transform) is a linear transformation that converts data into a set of uncorrelated variables (principal components). It is used for decorrelation and dimensionality reduction. "
   ]
  },
  {
   "cell_type": "code",
   "execution_count": 62,
   "metadata": {},
   "outputs": [
    {
     "name": "stdout",
     "output_type": "stream",
     "text": [
      "Compression Efficiency: 1.25\n"
     ]
    }
   ],
   "source": [
    "import matplotlib.pyplot\n",
    "\n",
    "image_path = r'img.jpeg' \n",
    "image = Image.open(image_path)\n",
    "image = image.resize((1024, 1024))\n",
    "\n",
    "gray = image.convert(\"L\")\n",
    "imarr = np.array(gray)\n",
    "covariance_matrix = np.cov(imarr.astype(float))\n",
    "e1, e = np.linalg.eigh(covariance_matrix)\n",
    "\n",
    "ind = np.argsort(e1)[::-1]\n",
    "e1 = e1[ind]\n",
    "e = e[:, ind]\n",
    "\n",
    "compression_ratio = 0.1\n",
    "eign = int(compression_ratio * len(e1))\n",
    "sel = e[:, :eign]\n",
    "compressed_image = np.dot(sel.T, imarr.T).T\n",
    "newimage = np.dot(compressed_image, sel.T)\n",
    "\n",
    "original = imarr.size * 8  \n",
    "compressed = eign * (len(e1) + 1) * 64  \n",
    "\n",
    "compression_efficiency = original / compressed\n",
    "\n",
    "print(f\"Compression Efficiency: {compression_efficiency:.2f}\")\n",
    "\n",
    "# matplotlib.pyplot.imshow(image, cmap='gray')\n",
    "# matplotlib.pyplot.imshow(newimage, cmap='gray')"
   ]
  },
  {
   "cell_type": "markdown",
   "metadata": {},
   "source": [
    "Haar wavelet transform is a mathematical technique that decomposes an image into wavelet coefficients representing different levels of detail."
   ]
  },
  {
   "cell_type": "code",
   "execution_count": 64,
   "metadata": {},
   "outputs": [
    {
     "name": "stdout",
     "output_type": "stream",
     "text": [
      "Compression Efficiency: 2.79\n"
     ]
    }
   ],
   "source": [
    "import numpy as np\n",
    "from PIL import Image\n",
    "import pywt\n",
    "import sys\n",
    "\n",
    "image_path = r'img.jpeg' \n",
    "image = Image.open(image_path)\n",
    "image = image.resize((1024, 1024))\n",
    "gray = image.convert(\"L\")\n",
    "\n",
    "imarr = np.array(gray)\n",
    "\n",
    "coeffs = pywt.dwt2(imarr, 'haar')\n",
    "threshold = 15.0\n",
    "qc = [np.where(np.abs(coef) < threshold, 0, coef) for coef in coeffs]\n",
    "\n",
    "reconstructed_image = pywt.idwt2(qc, 'haar')\n",
    "\n",
    "original_size_bits = imarr.size * 8  \n",
    "compressed_size_bits = sum([np.sum(np.abs(coef) > 0) * np.ceil(np.log2(np.max(np.abs(coef)))) for coef in qc])\n",
    "\n",
    "compression_efficiency = original_size_bits / compressed_size_bits\n",
    "\n",
    "print(f\"Compression Efficiency: {compression_efficiency:.2f}\")"
   ]
  },
  {
   "cell_type": "markdown",
   "metadata": {},
   "source": [
    "Conclusion:\n",
    "\n",
    "Huffman Coding: Huffman coding is typically used for lossless compression, so it preserves image quality but may not achieve very high compression ratios.\n",
    "\n",
    "DCT Coding: DCT coding is often used for lossy compression. The trade-off between image quality and compression ratio can be adjusted by varying the quantization step size.\n",
    "\n",
    "KL Transform-Based Coding: KL transform can be used for both lossless and lossy compression, offering a flexible trade-off between image quality and compression ratio.\n",
    "\n",
    "Haar Wavelet Compression: Haar wavelet compression can also be used for both lossless and lossy compression, providing control over image quality and compression ratio."
   ]
  }
 ],
 "metadata": {
  "kernelspec": {
   "display_name": "Python 3 (ipykernel)",
   "language": "python",
   "name": "python3"
  },
  "language_info": {
   "codemirror_mode": {
    "name": "ipython",
    "version": 3
   },
   "file_extension": ".py",
   "mimetype": "text/x-python",
   "name": "python",
   "nbconvert_exporter": "python",
   "pygments_lexer": "ipython3",
   "version": "3.11.2"
  }
 },
 "nbformat": 4,
 "nbformat_minor": 2
}
