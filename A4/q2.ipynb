{
  "nbformat": 4,
  "nbformat_minor": 0,
  "metadata": {
    "colab": {
      "provenance": [],
      "authorship_tag": "ABX9TyOigO9qkKbS7vsGuILd9TKN",
      "include_colab_link": true
    },
    "kernelspec": {
      "name": "python3",
      "display_name": "Python 3"
    },
    "language_info": {
      "name": "python"
    }
  },
  "cells": [
    {
      "cell_type": "markdown",
      "metadata": {
        "id": "view-in-github",
        "colab_type": "text"
      },
      "source": [
        "<a href=\"https://colab.research.google.com/github/as1605/ELL715/blob/main/A4/q2.ipynb\" target=\"_parent\"><img src=\"https://colab.research.google.com/assets/colab-badge.svg\" alt=\"Open In Colab\"/></a>"
      ]
    },
    {
      "cell_type": "code",
      "execution_count": 25,
      "metadata": {
        "id": "7Sb1Ai7QQ4xM"
      },
      "outputs": [],
      "source": [
        "mat = [\n",
        "    [0,0,0,0,1,1,1,1,0,0,0,1,1,1],\n",
        "    [0,1,1,1,1,0,0,0,1,1,1,0,0,0],\n",
        "    [0,0,0,1,1,1,1,1,0,0,0,1,1,1],\n",
        "    [1,1,0,0,1,1,1,1,0,0,1,1,1,1]\n",
        "  ]\n",
        "# [ [4, 7, 1], [11, 13, 1], [16, 20, 1] ]"
      ]
    },
    {
      "cell_type": "code",
      "source": [
        "x = []\n",
        "x.append(\"hello\")\n",
        "x.append(1)\n",
        "x.append([\"hello\", \"world\"])\n",
        "x.append({\"some\": \"object\"})\n",
        "x.append((\"some\", \"tuple\", 23))\n",
        "x"
      ],
      "metadata": {
        "colab": {
          "base_uri": "https://localhost:8080/"
        },
        "id": "qyxgsG2BaS4u",
        "outputId": "744e9aee-4d8c-4af0-c6bf-67496550a6f8"
      },
      "execution_count": 7,
      "outputs": [
        {
          "output_type": "execute_result",
          "data": {
            "text/plain": [
              "['hello', 1, ['hello', 'world'], {'some': 'object'}, ('some', 'tuple', 23)]"
            ]
          },
          "metadata": {},
          "execution_count": 7
        }
      ]
    },
    {
      "cell_type": "code",
      "source": [
        "a = []\n",
        "\n",
        "\n",
        "\n",
        "for r in range(len(mat)):\n",
        "    arr=mat[r]\n",
        "    start=0\n",
        "    end=0\n",
        "    isCounting=False\n",
        "    for i in range(len(arr)):\n",
        "        if arr[i]==1 and isCounting ==False:\n",
        "\n",
        "            isCounting=True\n",
        "            start=i\n",
        "            #print(\"starting\",i)\n",
        "\n",
        "        if arr[i]==0 and isCounting==True:\n",
        "          end=i-1\n",
        "          isCounting=False\n",
        "          #print(\"ending\", i)\n",
        "          a.append((start,end,r))\n",
        "\n",
        "    if arr[len(arr)-1]==1:\n",
        "      end=len(arr)-1\n",
        "      a.append((start,end,r))\n",
        "\n",
        "a"
      ],
      "metadata": {
        "colab": {
          "base_uri": "https://localhost:8080/"
        },
        "id": "ipaHD3Z9TnMx",
        "outputId": "1a4b1331-02c1-448a-fa35-922d8ba4154a"
      },
      "execution_count": 27,
      "outputs": [
        {
          "output_type": "execute_result",
          "data": {
            "text/plain": [
              "[(4, 7, 0),\n",
              " (11, 13, 0),\n",
              " (1, 4, 1),\n",
              " (8, 10, 1),\n",
              " (3, 7, 2),\n",
              " (11, 13, 2),\n",
              " (0, 1, 3),\n",
              " (4, 7, 3),\n",
              " (10, 13, 3)]"
            ]
          },
          "metadata": {},
          "execution_count": 27
        }
      ]
    },
    {
      "cell_type": "code",
      "source": [],
      "metadata": {
        "id": "wAAuvPoXcBbU"
      },
      "execution_count": null,
      "outputs": []
    }
  ]
}