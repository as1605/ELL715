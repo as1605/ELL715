{
 "cells": [
  {
   "cell_type": "code",
   "execution_count": 1,
   "id": "cfa01022",
   "metadata": {},
   "outputs": [],
   "source": [
    "import cv2 as cv\n",
    "import numpy as np"
   ]
  },
  {
   "cell_type": "code",
   "execution_count": 2,
   "id": "5b3bdd1c",
   "metadata": {},
   "outputs": [
    {
     "name": "stdout",
     "output_type": "stream",
     "text": [
      "0\n",
      "1\n",
      "4\n"
     ]
    }
   ],
   "source": [
    "print(cv.EVENT_MOUSEMOVE)\n",
    "print(cv.EVENT_LBUTTONDOWN)\n",
    "print(cv.EVENT_LBUTTONUP)"
   ]
  },
  {
   "cell_type": "code",
   "execution_count": 3,
   "id": "92265929",
   "metadata": {},
   "outputs": [],
   "source": [
    "img_path=\"n03384352_forklift.JPEG\"\n",
    "window_name=\"window\"\n",
    "img = cv.imread(img_path)"
   ]
  },
  {
   "cell_type": "code",
   "execution_count": 4,
   "id": "42deb799",
   "metadata": {},
   "outputs": [],
   "source": [
    "drawing = False\n",
    "last = (0, 0)\n",
    "def mouse_callback(event,x,y,flags,param):\n",
    "    global drawing\n",
    "    global last\n",
    "    if event == cv.EVENT_LBUTTONDOWN:\n",
    "        drawing = True\n",
    "        last = (x, y)\n",
    "    if event == cv.EVENT_LBUTTONUP:\n",
    "        if drawing:\n",
    "            cv.line(img, (x,y), last, (0, 255,0), 5)\n",
    "        drawing = False\n",
    "    if event == cv.EVENT_MOUSEMOVE:\n",
    "        if drawing: \n",
    "            cv.line(img, (x,y), last, (0, 255, 0), 5)\n",
    "            cv.circle(img, (x,y), 6, (0, 255, 255), -1)\n",
    "        last = (x, y)"
   ]
  },
  {
   "cell_type": "code",
   "execution_count": 5,
   "id": "fcba0581",
   "metadata": {},
   "outputs": [],
   "source": [
    "cv.startWindowThread()\n",
    "cv.namedWindow(window_name)\n",
    "cv.setMouseCallback(window_name, mouse_callback)"
   ]
  },
  {
   "cell_type": "code",
   "execution_count": 6,
   "id": "9d411592",
   "metadata": {},
   "outputs": [
    {
     "data": {
      "text/plain": [
       "-1"
      ]
     },
     "execution_count": 6,
     "metadata": {},
     "output_type": "execute_result"
    }
   ],
   "source": [
    "# \"Press 'q' for exit, 'r' for ROI, and use left click for brush stroke\n",
    "while True:\n",
    "    cv.imshow(window_name,img)\n",
    "    code = cv.waitKey(1)\n",
    "    if code == ord('q'):\n",
    "        break\n",
    "    if code == ord('r'):\n",
    "        cv.selectROI(window_name, img)\n",
    "        # use space or enter to finish selection, use key c to cancel selection\n",
    "cv.destroyAllWindows()\n",
    "cv.waitKey(1)"
   ]
  },
  {
   "cell_type": "code",
   "execution_count": null,
   "id": "51eb0e37",
   "metadata": {},
   "outputs": [],
   "source": []
  }
 ],
 "metadata": {
  "kernelspec": {
   "display_name": "Python 3 (ipykernel)",
   "language": "python",
   "name": "python3"
  },
  "language_info": {
   "codemirror_mode": {
    "name": "ipython",
    "version": 3
   },
   "file_extension": ".py",
   "mimetype": "text/x-python",
   "name": "python",
   "nbconvert_exporter": "python",
   "pygments_lexer": "ipython3",
   "version": "3.11.2"
  }
 },
 "nbformat": 4,
 "nbformat_minor": 5
}
