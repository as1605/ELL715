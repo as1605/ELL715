{
 "cells": [
  {
   "attachments": {},
   "cell_type": "markdown",
   "id": "319f89aa",
   "metadata": {},
   "source": [
    "# ELL715: Assignment 3\n",
    "- Aditya Singh (2020EE10461)\n",
    "- Harsh Swaika (2021EE11052)\n",
    "- Ananya M (2020MT10787)\n",
    "- Pramod Prasad (2022BSZ8403)\n",
    "- Sarthak Srivastava (2020EE10550)\n",
    "\n",
    "1. Design the **Interactive Interface**: Devise an intuitive user interface that allows users to upload images and interactively mark areas of their choice, they may assume some object is present. Bonus: Provide options for drawing, outlining, or applying brush strokes.\n",
    "\n",
    "2. Implement **Background Subtraction**: Develop an algorithm that intelligently subtracts the background of the image based on user markings. \n",
    "\n",
    "3. Innovative **Object Highlighting**: Design a creative way to highlight the segmented objects within the image. \n",
    "\n",
    "4. Real-time **Object Detection**: Integrate real-time object detection using pre-trained models or custom algorithms. As users interact with the image, the system should instantly identify objects based on their markings."
   ]
  },
  {
   "cell_type": "code",
   "execution_count": 1,
   "id": "b2a713b4",
   "metadata": {},
   "outputs": [
    {
     "name": "stdout",
     "output_type": "stream",
     "text": [
      "Package       Version\r\n",
      "------------- --------\r\n",
      "numpy         1.25.2\r\n",
      "opencv-python 4.6.0.66\r\n",
      "pip           23.2.1\r\n",
      "setuptools    58.0.4\r\n"
     ]
    }
   ],
   "source": [
    "!pip3 list"
   ]
  },
  {
   "cell_type": "code",
   "execution_count": 2,
   "id": "a62a94b9",
   "metadata": {},
   "outputs": [
    {
     "name": "stdout",
     "output_type": "stream",
     "text": [
      "Requirement already satisfied: pip in ./env/lib/python3.9/site-packages (23.2.1)\r\n"
     ]
    }
   ],
   "source": [
    "!pip3 install --upgrade pip"
   ]
  },
  {
   "cell_type": "code",
   "execution_count": 3,
   "id": "9fe1458b",
   "metadata": {},
   "outputs": [
    {
     "name": "stdout",
     "output_type": "stream",
     "text": [
      "Requirement already satisfied: opencv-python==4.6.0.66 in ./env/lib/python3.9/site-packages (4.6.0.66)\r\n",
      "Requirement already satisfied: numpy>=1.14.5 in ./env/lib/python3.9/site-packages (from opencv-python==4.6.0.66) (1.25.2)\r\n"
     ]
    }
   ],
   "source": [
    "!pip3 install opencv-python==4.6.0.66"
   ]
  },
  {
   "cell_type": "code",
   "execution_count": 4,
   "id": "cfa01022",
   "metadata": {},
   "outputs": [],
   "source": [
    "import cv2 as cv\n",
    "import numpy as np"
   ]
  },
  {
   "cell_type": "code",
   "execution_count": 5,
   "id": "42588b26",
   "metadata": {},
   "outputs": [
    {
     "data": {
      "text/plain": [
       "'4.5.5'"
      ]
     },
     "execution_count": 5,
     "metadata": {},
     "output_type": "execute_result"
    }
   ],
   "source": [
    "cv.__version__"
   ]
  },
  {
   "cell_type": "code",
   "execution_count": 6,
   "id": "5b3bdd1c",
   "metadata": {},
   "outputs": [
    {
     "name": "stdout",
     "output_type": "stream",
     "text": [
      "0\n",
      "1\n",
      "4\n"
     ]
    }
   ],
   "source": [
    "print(cv.EVENT_MOUSEMOVE)\n",
    "print(cv.EVENT_LBUTTONDOWN)\n",
    "print(cv.EVENT_LBUTTONUP)"
   ]
  },
  {
   "cell_type": "code",
   "execution_count": 7,
   "id": "6fa5b5b4",
   "metadata": {},
   "outputs": [
    {
     "name": "stdout",
     "output_type": "stream",
     "text": [
      "File ‘coco.names’ already there; not retrieving.\r\n"
     ]
    }
   ],
   "source": [
    "!wget --no-clobber -O \"coco.names\" \"https://opencv-tutorial.readthedocs.io/en/latest/_downloads/a9fb13cbea0745f3d11da9017d1b8467/coco.names\""
   ]
  },
  {
   "cell_type": "code",
   "execution_count": 8,
   "id": "fe206749",
   "metadata": {},
   "outputs": [
    {
     "name": "stdout",
     "output_type": "stream",
     "text": [
      "File ‘yolov3.weights’ already there; not retrieving.\r\n"
     ]
    }
   ],
   "source": [
    "!wget --no-clobber -O \"yolov3.weights\" \"https://pjreddie.com/media/files/yolov3.weights\""
   ]
  },
  {
   "cell_type": "code",
   "execution_count": 9,
   "id": "707819e6",
   "metadata": {},
   "outputs": [
    {
     "name": "stdout",
     "output_type": "stream",
     "text": [
      "File ‘yolov3.cfg’ already there; not retrieving.\r\n"
     ]
    }
   ],
   "source": [
    "!wget --no-clobber -O \"yolov3.cfg\" \"https://opencv-tutorial.readthedocs.io/en/latest/_downloads/10e685aad953495a95c17bfecd1649e5/yolov3.cfg\""
   ]
  },
  {
   "cell_type": "code",
   "execution_count": 10,
   "id": "92265929",
   "metadata": {},
   "outputs": [],
   "source": [
    "img_path=\"n03384352_forklift.JPEG\"\n",
    "window_name=\"window\"\n",
    "img = cv.imread(img_path)"
   ]
  },
  {
   "cell_type": "code",
   "execution_count": 11,
   "id": "42deb799",
   "metadata": {},
   "outputs": [],
   "source": [
    "# https://docs.opencv.org/4.8.0/db/d5b/tutorial_py_mouse_handling.html\n",
    "drawing = False\n",
    "last = (0, 0)\n",
    "def interactive_interface(event, x, y, flags, param):\n",
    "    global drawing\n",
    "    global last\n",
    "    if event == cv.EVENT_LBUTTONDOWN:\n",
    "        drawing = True\n",
    "        last = (x, y)\n",
    "    if event == cv.EVENT_LBUTTONUP:\n",
    "        if drawing:\n",
    "            cv.line(img, (x,y), last, (0, 255,0), 5)\n",
    "        drawing = False\n",
    "    if event == cv.EVENT_MOUSEMOVE:\n",
    "        if drawing: \n",
    "            cv.line(img, (x,y), last, (0, 255, 0), 5)\n",
    "            cv.circle(img, (x,y), 6, (0, 255, 255), -1)\n",
    "        last = (x, y)"
   ]
  },
  {
   "cell_type": "code",
   "execution_count": 12,
   "id": "bdcede21",
   "metadata": {},
   "outputs": [],
   "source": [
    "# grabCut tutorial https://docs.opencv.org/3.4/d8/d83/tutorial_py_grabcut.html\n",
    "def background_subtraction(window_name, img):\n",
    "    cv.setWindowTitle(window_name, \"Select rectangle and press space\")\n",
    "    rect = cv.selectROI(window_name, img)\n",
    "    cv.setWindowTitle(window_name, \"Background is subtracted. z to reset\")\n",
    "    \n",
    "    mask = np.zeros(img.shape[:2], np.uint8)\n",
    "    bgdModel = np.zeros((1,65), np.float64)\n",
    "    fgdModel = np.zeros((1,65), np.float64)    \n",
    "    \n",
    "    cv.grabCut(img, mask, rect, bgdModel, fgdModel, 5, cv.GC_INIT_WITH_RECT)\n",
    "    \n",
    "    mask2 = np.where((mask == 2) | (mask == 0), 0, 1).astype('uint8')\n",
    "    img = img * mask2[:, :, np.newaxis]\n",
    "    \n",
    "    return img"
   ]
  },
  {
   "cell_type": "code",
   "execution_count": 13,
   "id": "2703deb5",
   "metadata": {},
   "outputs": [],
   "source": [
    "def object_highlighting(img):\n",
    "    gray = cv.cvtColor(img, cv.COLOR_BGR2GRAY)\n",
    "    _, binary = cv.threshold(gray, 0, 255, cv.THRESH_BINARY + cv.THRESH_OTSU)\n",
    "    contours, heirarchy = cv.findContours(binary, cv.RETR_TREE, cv.CHAIN_APPROX_SIMPLE)\n",
    "    highlighted_image = np.zeros_like(img)\n",
    "    cv.drawContours(highlighted_image, contours, -1, (0, 255, 0), 2)\n",
    "    return highlighted_image"
   ]
  },
  {
   "cell_type": "code",
   "execution_count": 14,
   "id": "65c6cb53",
   "metadata": {},
   "outputs": [],
   "source": [
    "# YOLO Tutorial https://opencv-tutorial.readthedocs.io/en/latest/yolo/yolo.html\n",
    "classes = open('coco.names').read().strip().split('\\n')\n",
    "np.random.seed(0)\n",
    "colors = np.random.randint(0, 255, size=(len(classes), 3), dtype='uint8')\n",
    "\n",
    "net = cv.dnn.readNetFromDarknet('yolov3.cfg', 'yolov3.weights')\n",
    "net.setPreferableBackend(cv.dnn.DNN_BACKEND_OPENCV)\n",
    "\n",
    "layer_names = net.getLayerNames()\n",
    "layer_names = [layer_names[i-1] for i in net.getUnconnectedOutLayers()]\n",
    "blob = cv.dnn.blobFromImage(img, 1/255.0, (416, 416), swapRB=True, crop=False)\n",
    "r = blob[0, 0, :, :]\n",
    "\n",
    "net.setInput(blob)\n",
    "yolo_outputs = net.forward(layer_names)"
   ]
  },
  {
   "cell_type": "code",
   "execution_count": 15,
   "id": "a89715eb",
   "metadata": {},
   "outputs": [],
   "source": [
    "# YOLO Tutorial https://opencv-tutorial.readthedocs.io/en/latest/yolo/yolo.html\n",
    "def object_detection(event, X, Y, flags, param):\n",
    "    cv.setWindowTitle(window_name, f\"Hover to detect. ({X}, {Y})\")\n",
    "    boxes = []\n",
    "    confidences = []\n",
    "    classIDs = []\n",
    "    h, w = img.shape[:2]\n",
    "    for output in yolo_outputs:\n",
    "        for detection in output:\n",
    "            scores = detection[5:]\n",
    "            classID = np.argmax(scores)\n",
    "            confidence = scores[classID]\n",
    "            if confidence > 0.3:\n",
    "                box = detection[:4] * np.array([w, h, w, h])\n",
    "                (centerX, centerY, width, height) = box.astype(\"int\")\n",
    "                x = int(centerX - (width / 2))\n",
    "                y = int(centerY - (height / 2))\n",
    "                if X >= x and X <= x + width:\n",
    "                    if Y >= y and Y <= y + height:\n",
    "                        box = [x, y, int(width), int(height)]\n",
    "                        boxes.append(box)\n",
    "                        confidences.append(float(confidence))\n",
    "                        classIDs.append(classID)\n",
    "    indices = cv.dnn.NMSBoxes(boxes, confidences, 0.5, 0.4)\n",
    "    if len(indices) > 0:\n",
    "        for i in indices.flatten():\n",
    "            (x, y) = (boxes[i][0], boxes[i][1])\n",
    "            (w, h) = (boxes[i][2], boxes[i][3])\n",
    "            color = [int(c) for c in colors[classIDs[i]]]\n",
    "            cv.rectangle(img, (x, y), (x + w, y + h), color, 3)\n",
    "            text = \"{}: {:.4f}\".format(classes[classIDs[i]], confidences[i])\n",
    "            cv.putText(img, text, (x, y - 5), cv.FONT_HERSHEY_DUPLEX, 0.6, color, 1)"
   ]
  },
  {
   "cell_type": "code",
   "execution_count": 16,
   "id": "fcba0581",
   "metadata": {},
   "outputs": [],
   "source": [
    "cv.startWindowThread()\n",
    "cv.namedWindow(window_name)"
   ]
  },
  {
   "cell_type": "markdown",
   "id": "c6a54aa5",
   "metadata": {},
   "source": [
    "### How to use interactive interface\n",
    "Press the following keys on keyboard for each function\n",
    "- `d` for drawing. `left-click` then drag to draw\n",
    "- `r` for selecting\n",
    "- `b` for background subtraction, using **grabCut** method. Select rectangle then press `space`\n",
    "- `h` for object highlighting, using **contours** \n",
    "- `o` for object detection. using **YOLOv3** algorithm. Hover over the objects to detect them\n",
    "- `z` for reset\n",
    "- `q` for quit"
   ]
  },
  {
   "cell_type": "code",
   "execution_count": 17,
   "id": "9d411592",
   "metadata": {},
   "outputs": [
    {
     "data": {
      "text/plain": [
       "-1"
      ]
     },
     "execution_count": 17,
     "metadata": {},
     "output_type": "execute_result"
    }
   ],
   "source": [
    "drawingMode = False\n",
    "objectMode = False\n",
    "\n",
    "INSTRUCTIONS = \"q:quit z:reset d:draw b:background h:highlight o:objdetect r:select\"\n",
    "cv.setWindowTitle(window_name, INSTRUCTIONS)\n",
    "\n",
    "while True:\n",
    "    cv.imshow(window_name,img)\n",
    "\n",
    "    code = cv.waitKey(1)\n",
    "\n",
    "    if code == ord('d'):\n",
    "        if not drawingMode:\n",
    "            cv.setMouseCallback(window_name, interactive_interface)\n",
    "            drawingMode = True\n",
    "            cv.setWindowTitle(window_name, \"Use mouse as brush\")\n",
    "        else:\n",
    "            drawingMode = False\n",
    "            cv.setWindowTitle(window_name, INSTRUCTIONS)\n",
    "\n",
    "    if code == ord('r'):\n",
    "        # just for demonstration of ROI, use 'b' for actual bg subtraction\n",
    "        # use space or enter to finish selection, use key c to cancel selection\n",
    "        cv.selectROI(window_name, img)\n",
    "\n",
    "    if code == ord('b'):\n",
    "        img = background_subtraction(window_name, img)\n",
    "    \n",
    "    if code == ord('h'):\n",
    "        img = object_highlighting(img)\n",
    "        cv.setWindowTitle(window_name, \"Highlighted Contours. z to reset\")\n",
    "\n",
    "    if code == ord('o'):\n",
    "        if not objectMode:\n",
    "            cv.setMouseCallback(window_name, object_detection)\n",
    "            objectMode = True\n",
    "            cv.setWindowTitle(window_name, \"Hover to detect.\")\n",
    "        else:\n",
    "            cv.setMouseCallback(window_name, lambda *args: None)\n",
    "            objectMode = False\n",
    "            cv.setWindowTitle(window_name, INSTRUCTIONS)\n",
    "            img = cv.imread(img_path)\n",
    "\n",
    "    if code == ord('q'):\n",
    "        break\n",
    "\n",
    "    if code == ord('z'):\n",
    "        img = cv.imread(img_path)\n",
    "        cv.setWindowTitle(window_name, INSTRUCTIONS)\n",
    "        cv.setMouseCallback(window_name, lambda *args: None)\n",
    "        drawingMode = False\n",
    "        objectMode = False\n",
    "        drawing = False\n",
    "cv.destroyAllWindows()\n",
    "cv.waitKey(1)"
   ]
  },
  {
   "cell_type": "markdown",
   "id": "c9d303c3",
   "metadata": {},
   "source": [
    "## Results\n",
    "### Interactive Interface\n",
    "![interactive](./demo/interactive.png)\n",
    "![drawing](./demo/drawing.png)\n",
    "### Background Subtraction\n",
    "![bg](./demo/background.png)\n",
    "![bg2](./demo/background2.png)\n",
    "### Object Highlighting\n",
    "![highlight](./demo/highlight.png)\n",
    "### Object Detection\n",
    "![yolo](./demo/yolo.png)"
   ]
  },
  {
   "cell_type": "markdown",
   "id": "47a249fd",
   "metadata": {},
   "source": [
    "## Conclusion\n",
    "- We have been able to implement an interactive interface using OpenCV's `namedWindow` and `setMouseCallback`\n",
    "- We can draw with mouse like a paint brush\n",
    "- We can subtract background using grabCut algorithm\n",
    "- We can highlight objects on basis of their contour\n",
    "- We can detect objects on hovering them using YOLOv3"
   ]
  }
 ],
 "metadata": {
  "kernelspec": {
   "display_name": "env",
   "language": "python",
   "name": "env"
  },
  "language_info": {
   "codemirror_mode": {
    "name": "ipython",
    "version": 3
   },
   "file_extension": ".py",
   "mimetype": "text/x-python",
   "name": "python",
   "nbconvert_exporter": "python",
   "pygments_lexer": "ipython3",
   "version": "3.11.2"
  }
 },
 "nbformat": 4,
 "nbformat_minor": 5
}
